{
 "cells": [
  {
   "cell_type": "markdown",
   "metadata": {},
   "source": [
    "# Sujet de mini-projet (2019): Cooperative Path-Finding\n",
    "\n",
    "## Environnement\n",
    "Vous utiliserez le module `PySpriteWorld` qui élabore pygame et permet de manipuler simplement des personnages, cartes, et autres objets à l'écran. Ce module a été développé par Yann Chevaleyre. Une version plus complète se trouve [ici](https://github.com/yannche/pySpriteWorld), mais la version disponible dans ce répertoire suffit a priori pour faire tout ce dont vous avez besoin.\n",
    "\n",
    "Notez que vous pourrez ensuite éditer vos propres cartes à l'aide de l'éditeur [Tiled](http://www.mapeditor.org/), et exporter ces cartes au format `.json`.\n",
    "Il faut utiliser au moins trois calques lors de la création de votre carte: \n",
    "* un calque **joueur**, où seront les personnages \n",
    "* un calque **ramassable**, qui contient les objets que les personnages peuvent ramasser\n",
    "* un calque **obstacles**, pour les murs, les arbres, etc.\n",
    "\n",
    "**Note**: on fait ici l'hypothèse que toutes les informations (positions des agents et des trésors) sont disponibles pour tous les agents (i.e. on ne se pose pas de problème de communication)\n",
    "\n",
    "\n",
    "Dans ce projet, on considère à présent en compétition que plusieurs personnages doivent chacun atteindre un objectif qui leur propre (une fiole donnée). On souhaite éviter les collisions entre personnages, ce qui signifie que l'on souhaite que les agents possèdent des algorithmes qui leurs permettent de s'éviter. Sont considérées comme collisions les situations où les personnages:\n",
    "\n",
    "* se trouvent au même moment sur la même case, ou bien\n",
    "* deux personnages se \"croisent\"\n",
    "\n",
    "**Note**: pour utiliser les testes il faut que le notebook soit dans le meme dossier que les fichier .py"
   ]
  },
  {
   "cell_type": "markdown",
   "metadata": {
    "collapsed": true
   },
   "source": [
    "# Strategie Path Slicing"
   ]
  },
  {
   "cell_type": "markdown",
   "metadata": {},
   "source": [
    "* Cette Strategie consiste calculer le plus court chemin de chaque agent vers sa fiole et a modifier le chemin emprunté par l'agent lorsque celui-ci détecte une collision  \n",
    "* Pour calculer le plus court chemin d'un agent vers sa fiole on utilise l'algorithme A* en utilisant la distance de Manhattan comme heuristique\n",
    "* L'algorithme A* garanti de ne pas avoir de colision avec les murs"
   ]
  },
  {
   "cell_type": "markdown",
   "metadata": {},
   "source": [
    "## Fonctionement"
   ]
  },
  {
   "cell_type": "markdown",
   "metadata": {},
   "source": [
    "Au demarage chaque agent (class PlayerPath) calcule son chemin vers sa fiole en utilisant l'algorithme A*. Une fois les chemins calculés on parcours les chemins des agents (class PathSlicingStrategy) et a chaque tour, s'il y a colision l'agent qui a detecté la colision recalcule son chemin en ajoutent un chemin a partir de la case avant la colision vers la case apres la colision."
   ]
  },
  {
   "cell_type": "markdown",
   "metadata": {},
   "source": [
    "## Testes"
   ]
  },
  {
   "cell_type": "code",
   "execution_count": 2,
   "metadata": {},
   "outputs": [
    {
     "name": "stdout",
     "output_type": "stream",
     "text": [
      "pygame 1.9.4\n",
      "Hello from the pygame community. https://www.pygame.org/contribute.html\n"
     ]
    }
   ],
   "source": [
    "import mainTest"
   ]
  },
  {
   "cell_type": "code",
   "execution_count": null,
   "metadata": {},
   "outputs": [],
   "source": [
    "m = mainTest.initTest('carte1')\n",
    "m.pathSlicingStrategyTest()"
   ]
  },
  {
   "cell_type": "code",
   "execution_count": 3,
   "metadata": {},
   "outputs": [
    {
     "name": "stdout",
     "output_type": "stream",
     "text": [
      "Init states: [(1, 3), (4, 16), (18, 1)]\n",
      "Goal states: [(6, 7), (12, 6), (19, 8)]\n",
      "<Group(3 sprites)>\n",
      "[<groupe.Groupe object at 0x000001FC53454FD0>]\n",
      "Cooperative Basic Strategy : done in  20  moves\n"
     ]
    }
   ],
   "source": [
    "m = mainTest.initTest('carte2')\n",
    "m.pathSlicingStrategyTest()"
   ]
  },
  {
   "cell_type": "code",
   "execution_count": 4,
   "metadata": {},
   "outputs": [
    {
     "name": "stdout",
     "output_type": "stream",
     "text": [
      "Init states: [(2, 4), (4, 16), (18, 1)]\n",
      "Goal states: [(4, 9), (9, 13), (12, 6)]\n",
      "<Group(3 sprites)>\n",
      "[<groupe.Groupe object at 0x000001FC534402B0>]\n",
      "Cooperative Basic Strategy : done in  18  moves\n"
     ]
    }
   ],
   "source": [
    "m = mainTest.initTest('carte3')\n",
    "m.pathSlicingStrategyTest()"
   ]
  },
  {
   "cell_type": "code",
   "execution_count": 7,
   "metadata": {},
   "outputs": [
    {
     "name": "stdout",
     "output_type": "stream",
     "text": [
      "Init states: [(2, 4), (4, 16), (18, 1)]\n",
      "Goal states: [(4, 9), (9, 13), (12, 6)]\n",
      "<Group(3 sprites)>\n",
      "Path Slicing Strategy : done in  16  moves\n"
     ]
    }
   ],
   "source": [
    "m = mainTest.initTest('carte4',True)\n",
    "m.pathSlicingStrategyTest()"
   ]
  },
  {
   "cell_type": "code",
   "execution_count": null,
   "metadata": {},
   "outputs": [],
   "source": [
    "m = mainTest.initTest('carte5')\n",
    "m.pathSlicingStrategyTest()"
   ]
  },
  {
   "cell_type": "markdown",
   "metadata": {},
   "source": [
    "le prochain teste montre que parfois le Path Slicing nous donne un chemin mais qui n'est pas le plus court"
   ]
  },
  {
   "cell_type": "code",
   "execution_count": null,
   "metadata": {},
   "outputs": [],
   "source": [
    "m = mainTest.initTest('carte6', True)\n",
    "m.pathSlicingStrategyTest()"
   ]
  },
  {
   "cell_type": "markdown",
   "metadata": {},
   "source": [
    "# Strategie Coopérative de Base"
   ]
  },
  {
   "cell_type": "markdown",
   "metadata": {},
   "source": [
    "* Cette consiste calculer le plus court chemin de chaque agent vers sa fiole et a diviser les agents par groupes de tels sorte que chaque agent d'un groupe ne croise jamais un autre agent du meme groupe lors d'une excecution simultané des agents"
   ]
  },
  {
   "cell_type": "markdown",
   "metadata": {},
   "source": [
    "## Fonctionement"
   ]
  },
  {
   "cell_type": "markdown",
   "metadata": {},
   "source": [
    "* Tout comme le Path Slicing dans une premier temps chaque agent calcule son chemin vers sa fiole en utilisant l'algorithme A*. Une fois les chemins calculés on separe les agents par groupes (class CoopBaseStrategy) \n",
    "* Chaque groupe corespond a un objet (class Group) qui contient en plus de la liste des agents un liste des cases parcouru par chaque agent pour pouvoir detetcter si un le chemin d'un autre agent crois les chemins des agents de ce  groupe (detection de croisement naïve)\n",
    "* Une fois les groupes formé on fait bougé les agents, lorsque tout les agents d'un groupe on attient leur objectif on passe a l'autre groupe en recaculant le chemin des autres agent en prennant en compte que les agents sur les fioles sont des murs (ce qui peut crée de nouveaux groupes)\n",
    "* la strategie utilisé pour les decoupages en groupe est celle du premier venu premier servie en d'autres mots on parcours les agents sequentielement sans preference selon la taille du chemin ou autre chose \n"
   ]
  },
  {
   "cell_type": "markdown",
   "metadata": {},
   "source": [
    "## Testes"
   ]
  },
  {
   "cell_type": "code",
   "execution_count": null,
   "metadata": {},
   "outputs": [],
   "source": [
    "m = mainTest.initTest('carte1')\n",
    "m.coopBaseStrategyTest()"
   ]
  },
  {
   "cell_type": "code",
   "execution_count": null,
   "metadata": {},
   "outputs": [],
   "source": [
    "m = mainTest.initTest('carte2')\n",
    "m.coopBaseStrategyTest()"
   ]
  },
  {
   "cell_type": "code",
   "execution_count": null,
   "metadata": {},
   "outputs": [],
   "source": [
    "m = mainTest.initTest('carte4', True)\n",
    "m.coopBaseStrategyTest()"
   ]
  },
  {
   "cell_type": "code",
   "execution_count": null,
   "metadata": {},
   "outputs": [],
   "source": [
    "m = mainTest.initTest('carte5')\n",
    "m.coopBaseStrategyTest()"
   ]
  },
  {
   "cell_type": "markdown",
   "metadata": {},
   "source": [
    "avec cette strategie les deux agents on un chemin le plus court mais on perd en nombre de tour car la stategie cherche un seul plus court chemin et non tout les plus courts"
   ]
  },
  {
   "cell_type": "code",
   "execution_count": null,
   "metadata": {},
   "outputs": [],
   "source": [
    "m = mainTest.initTest('carte6')\n",
    "m.coopBaseStrategyTest()"
   ]
  },
  {
   "cell_type": "markdown",
   "metadata": {},
   "source": [
    "# Stratégie Coopérative Avancée"
   ]
  },
  {
   "cell_type": "markdown",
   "metadata": {},
   "source": [
    "##### Les deux Stratégie precedente ont chaqu'une des lacunes :\n",
    "* Le Path Slicing peut obliger un agent a faire un plus long chemin car le nouveau path est calculé d'un point avant la colision vers un point apres la colision\n",
    "* La Strategie Coopérative de Base donne parfois un temps d'execution plus grand que l'excecution la plus optimal car il ne prend par en compte le moment ou les agents peuvent se croiser (time) mais prend en compte juste qu'une colision soit possible\n"
   ]
  },
  {
   "cell_type": "markdown",
   "metadata": {},
   "source": [
    "Pour la stratégie coopérative avancée on utilise une table de réservation spatio-temporelle où l'on va stocker des triplets qui correspondent à la position à un instant donné et comma ça lors de la planification du chemin chaque agent sait ou les autres agents seront a l'instant t"
   ]
  },
  {
   "cell_type": "markdown",
   "metadata": {},
   "source": [
    "## Fonctionement"
   ]
  },
  {
   "cell_type": "markdown",
   "metadata": {},
   "source": [
    "* Chaque agent calcule le plus court chemin vers la fiole on utilisant l'algorithme A* spatio-temporelle qui va considere que les emplacements reservé par les autres agents au moment t sont des murs et va les eviters\n",
    "* Pour calculer le plus court chemin d'un agent vers sa fiole on utilise l'algorithme A* spatio-temporelle utilisant la vraie distance comme heuristique obtenu en utilisant l'algorithme A* de la fiole vers la position de l'agent"
   ]
  },
  {
   "cell_type": "markdown",
   "metadata": {},
   "source": [
    "## Testes"
   ]
  },
  {
   "cell_type": "code",
   "execution_count": null,
   "metadata": {},
   "outputs": [],
   "source": [
    "m = mainTest.initTest('carte1')\n",
    "m.coopAdvStrategyTest()"
   ]
  },
  {
   "cell_type": "code",
   "execution_count": null,
   "metadata": {},
   "outputs": [],
   "source": [
    "m = mainTest.initTest('carte2')\n",
    "m.coopAdvStrategyTest()"
   ]
  },
  {
   "cell_type": "code",
   "execution_count": null,
   "metadata": {},
   "outputs": [],
   "source": [
    "m = mainTest.initTest('carte3')\n",
    "m.coopAdvStrategyTest()"
   ]
  },
  {
   "cell_type": "code",
   "execution_count": null,
   "metadata": {},
   "outputs": [],
   "source": [
    "m = mainTest.initTest('carte4')\n",
    "m.coopAdvStrategyTest()"
   ]
  },
  {
   "cell_type": "code",
   "execution_count": null,
   "metadata": {},
   "outputs": [],
   "source": [
    "m = mainTest.initTest('carte11')\n",
    "m.coopAdvStrategyTest()"
   ]
  },
  {
   "cell_type": "code",
   "execution_count": null,
   "metadata": {},
   "outputs": [],
   "source": [
    "m = mainTest.initTest('carte7', True)\n",
    "m.coopAdvStrategyTest()"
   ]
  },
  {
   "cell_type": "code",
   "execution_count": null,
   "metadata": {},
   "outputs": [],
   "source": [
    "m = mainTest.initTest('carte9', True)\n",
    "m.coopAdvStrategyTest()"
   ]
  },
  {
   "cell_type": "markdown",
   "metadata": {},
   "source": [
    "# Comparaison"
   ]
  },
  {
   "cell_type": "code",
   "execution_count": null,
   "metadata": {},
   "outputs": [],
   "source": [
    "mainTest.testAll('carte1')"
   ]
  },
  {
   "cell_type": "code",
   "execution_count": null,
   "metadata": {},
   "outputs": [],
   "source": [
    "mainTest.testAll('carte2')"
   ]
  },
  {
   "cell_type": "code",
   "execution_count": null,
   "metadata": {},
   "outputs": [],
   "source": [
    "mainTest.testAll('carte3')"
   ]
  },
  {
   "cell_type": "code",
   "execution_count": null,
   "metadata": {},
   "outputs": [],
   "source": [
    "mainTest.testAll('carte4')"
   ]
  },
  {
   "cell_type": "code",
   "execution_count": null,
   "metadata": {},
   "outputs": [],
   "source": [
    "mainTest.testAll('carte5')"
   ]
  },
  {
   "cell_type": "code",
   "execution_count": null,
   "metadata": {},
   "outputs": [],
   "source": [
    "mainTest.testAll('carte6', True)"
   ]
  },
  {
   "cell_type": "code",
   "execution_count": null,
   "metadata": {},
   "outputs": [],
   "source": [
    "mainTest.testAll('carte7', True)"
   ]
  },
  {
   "cell_type": "code",
   "execution_count": null,
   "metadata": {},
   "outputs": [],
   "source": [
    "mainTest.testAll('carte8', True)"
   ]
  },
  {
   "cell_type": "code",
   "execution_count": null,
   "metadata": {},
   "outputs": [],
   "source": [
    "mainTest.testAll('carte9', True)"
   ]
  },
  {
   "cell_type": "code",
   "execution_count": null,
   "metadata": {},
   "outputs": [],
   "source": [
    "mainTest.testAll('carte11')"
   ]
  },
  {
   "cell_type": "markdown",
   "metadata": {},
   "source": [
    "# Conclusion"
   ]
  },
  {
   "cell_type": "markdown",
   "metadata": {},
   "source": [
    "D'apres les testes qu'on a fait on remarque que la Stratégie Coopérative Avancée a toujours le meilleur score selon le nombre d'iteration mais elle prend plus de temps de calcule que les autres (ce qui peut etre amelioré en ajoutant une profondeur de recherche et une priorité a chaque agent ) et elle ne résout pas les cartes impossibles comme la 8, la Stratégie Coopérative de Base donne presque toujours le plus grand nombre d'iteration car les agents sont trop longtemps immobiles mais reste meilleure que la strategie de Path Slicing dans certain cas, et au final pour le Path Slicing on a remarqué que parfois elle fait faire des detours ce qui nous donne un resultat qui n'est pas optimal."
   ]
  }
 ],
 "metadata": {
  "anaconda-cloud": {},
  "kernelspec": {
   "display_name": "Python 3",
   "language": "python",
   "name": "python3"
  },
  "language_info": {
   "codemirror_mode": {
    "name": "ipython",
    "version": 3
   },
   "file_extension": ".py",
   "mimetype": "text/x-python",
   "name": "python",
   "nbconvert_exporter": "python",
   "pygments_lexer": "ipython3",
   "version": "3.7.1"
  }
 },
 "nbformat": 4,
 "nbformat_minor": 2
}
